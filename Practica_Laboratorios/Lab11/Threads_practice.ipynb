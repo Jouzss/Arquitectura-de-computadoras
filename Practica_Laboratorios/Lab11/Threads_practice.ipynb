{
 "cells": [
  {
   "cell_type": "markdown",
   "metadata": {},
   "source": [
    "### Threading"
   ]
  },
  {
   "cell_type": "markdown",
   "metadata": {},
   "source": [
    "Es una ejecución separada de flujo, lo que significa que nuestro programa tendra 2 cosas pasando a la vez. Aunque para la mayoría de implementaciones en python3 los diferentes hilos o se ejecutan al simultaneo, sin embargo, eso aparenta."
   ]
  },
  {
   "cell_type": "markdown",
   "metadata": {},
   "source": [
    "Haremos un ejemplo sin el .join()"
   ]
  },
  {
   "cell_type": "code",
   "execution_count": 59,
   "metadata": {},
   "outputs": [
    {
     "name": "stdout",
     "output_type": "stream",
     "text": [
      "Thread     : [0] inicio\n",
      "Main       : Esperando join\n",
      "Thread     : [0] fin\n",
      "Main       : acabo el join\n"
     ]
    }
   ],
   "source": [
    "import threading\n",
    "import time\n",
    "\n",
    "def imprime_lista(n):\n",
    "    print(f\"Thread     : [{n}] inicio\")\n",
    "    time.sleep(2)\n",
    "    print(f\"Thread     : [{n}] fin\")\n",
    "\n",
    "if __name__ == '__main__':\n",
    "\n",
    "    thread_1 = threading.Thread(target=imprime_lista, args = (0, ))\n",
    "\n",
    "    thread_1.start()\n",
    "    print(\"Main       : Esperando join\")\n",
    "    thread_1.join()\n",
    "    print(\"Main       : acabo el join\")"
   ]
  },
  {
   "cell_type": "markdown",
   "metadata": {},
   "source": [
    "Ahora añadiremos el .join()"
   ]
  },
  {
   "cell_type": "code",
   "execution_count": 71,
   "metadata": {},
   "outputs": [
    {
     "name": "stdout",
     "output_type": "stream",
     "text": [
      "Thread     : [0] inicio\n",
      "Thread     : [1] inicio\n",
      "Thread     : [2] inicio\n",
      "Thread     : [0] fin\n",
      "Thread     : [1] fin\n",
      "Thread     : [2] fin\n"
     ]
    }
   ],
   "source": [
    "import threading\n",
    "import time\n",
    "\n",
    "def imprime_lista(n):\n",
    "    print(f\"Thread     : [{n}] inicio\")\n",
    "    time.sleep(2)\n",
    "    print(f\"Thread     : [{n}] fin\")\n",
    "\n",
    "if __name__ == '__main__':\n",
    "\n",
    "    threads = list()\n",
    "\n",
    "    for idx in range(3):\n",
    "        t = threading.Thread(target=imprime_lista, args = (idx, ))\n",
    "        t.start()\n",
    "        threads.append(t)\n",
    "\n",
    "    for thread in threads:\n",
    "        thread.join()"
   ]
  },
  {
   "cell_type": "code",
   "execution_count": 72,
   "metadata": {},
   "outputs": [
    {
     "name": "stdout",
     "output_type": "stream",
     "text": [
      "Thread [Jonathan]     : [0] inicio\n",
      "Thread [Gabriel]     : [1] inicio\n",
      "Thread [Lopez]     : [2] inicio\n",
      "Thread [Paico]     : [3] inicio\n",
      "Thread [Lopez]     : [2] fin\n",
      "Thread [Jonathan]     : [0] fin\n",
      "Thread [Paico]     : [3] fin\n",
      "Thread [Gabriel]     : [1] fin\n"
     ]
    }
   ],
   "source": [
    "import concurrent.futures\n",
    "import threading\n",
    "import time\n",
    "\n",
    "def imprime_lista(m, n):\n",
    "    print(f\"Thread [{n}]     : [{m}] inicio\")\n",
    "    time.sleep(2)\n",
    "    print(f\"Thread [{n}]     : [{m}] fin\")\n",
    "\n",
    "if __name__ == '__main__':\n",
    "\n",
    "    pingas = [\"Jonathan\", \"Gabriel\", \"Lopez\", \"Paico\"]\n",
    "\n",
    "    with concurrent.futures.ThreadPoolExecutor(max_workers=4)as executor:\n",
    "        executor.map(imprime_lista, range(4), pingas)"
   ]
  },
  {
   "cell_type": "code",
   "execution_count": null,
   "metadata": {},
   "outputs": [],
   "source": [
    "import socket\n",
    "\n",
    "SOCKET_BUFFER = 1024\n",
    "\n",
    "\n",
    "if __name__ == '__main__':\n",
    "    sock = socket.socket(socket.AF_INET, socket.SOCK_STREAM)\n",
    "    server_address = ('0.0.0.0', 5500)\n",
    "\n",
    "    print(f\"[*] Levantando servidor en dirección {server_address[0]}:{server_address[1]}\")\n",
    "\n",
    "    sock.bind(server_address)\n",
    "\n",
    "    sock.listen(5)\n",
    "\n",
    "    while True:\n",
    "        print(\"[*] Esperando conexiones...\")\n",
    "        conn, client_address = sock.accept()\n",
    "\n",
    "        print(f\"Conexión establecida con {client_address[0]}:{client_address[1]}\")    \n",
    "\n",
    "        try:\n",
    "            while True:\n",
    "                dato = conn.recv(SOCKET_BUFFER)\n",
    "\n",
    "                if dato:\n",
    "                    print(f\"[+] Recibí: {dato}\")\n",
    "                    conn.sendall(dato)\n",
    "                else:\n",
    "                    print(\"[*] No hay más datos de parte del cliente\")\n",
    "                    break\n",
    "        except ConnectionResetError:\n",
    "            print(\"[!] Cliente cerró la conexión abruptamente\")\n",
    "        finally:\n",
    "            print(\"[*] Cerrando la conexión\")\n",
    "            conn.close()"
   ]
  },
  {
   "cell_type": "code",
   "execution_count": null,
   "metadata": {},
   "outputs": [],
   "source": [
    "import socket\n",
    "\n",
    "SOCK_BUFFER = 1024\n",
    "\n",
    "\n",
    "if __name__ == '__main__':\n",
    "    sock = socket.socket(socket.AF_INET, socket.SOCK_STREAM)\n",
    "    server_address = (\"localhost\", 5500)\n",
    "\n",
    "    print(f\"[*] Conectando a servidor en {server_address[0]}:{server_address[1]}\")\n",
    "\n",
    "    sock.connect(server_address)\n",
    "\n",
    "    msg = \"hola mundo!\"\n",
    "\n",
    "    print(f\"[*] Preparándome para enviar {msg}\")\n",
    "    sock.sendall(msg.encode(\"utf-8\"))\n",
    "\n",
    "    data = sock.recv(SOCK_BUFFER)\n",
    "\n",
    "    print(f\"[!] Recibí: {data}\")\n",
    "\n",
    "    print(f\"[*] Terminando operación, cerrando el socket\")\n",
    "\n",
    "    sock.close()"
   ]
  }
 ],
 "metadata": {
  "kernelspec": {
   "display_name": "Python 3",
   "language": "python",
   "name": "python3"
  },
  "language_info": {
   "codemirror_mode": {
    "name": "ipython",
    "version": 3
   },
   "file_extension": ".py",
   "mimetype": "text/x-python",
   "name": "python",
   "nbconvert_exporter": "python",
   "pygments_lexer": "ipython3",
   "version": "3.10.12"
  }
 },
 "nbformat": 4,
 "nbformat_minor": 2
}
