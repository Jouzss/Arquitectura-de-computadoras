{
 "cells": [
  {
   "cell_type": "markdown",
   "metadata": {},
   "source": [
    "## CSV FILES"
   ]
  },
  {
   "cell_type": "code",
   "execution_count": null,
   "metadata": {},
   "outputs": [],
   "source": [
    "import csv\n",
    "import random\n",
    "\n",
    "file_name = \"notas_arqui.csv\""
   ]
  },
  {
   "cell_type": "code",
   "execution_count": null,
   "metadata": {},
   "outputs": [],
   "source": [
    "def escribir_csv(cant_filas):\n",
    "    contenido = f\"codigo,{','.join(f'lab{idx + 1}' for idx in range(12))},e1,e2\\n\"\n",
    "    codigo_base = 20211899\n",
    "\n",
    "    for i in range(cant_filas):\n",
    "        fila = f\"{codigo_base + i},{','.join(str(random.randint(0,20)) for idx in range(14))}\\n\"\n",
    "        contenido += fila\n",
    "\n",
    "    contenido = contenido[:-1] # Quita el último salto de línea\n",
    "\n",
    "    with open(file_name, \"w+\") as f:\n",
    "        f.write(contenido)"
   ]
  },
  {
   "cell_type": "code",
   "execution_count": null,
   "metadata": {},
   "outputs": [],
   "source": [
    "def leer_csv():\n",
    "    with open(file_name, \"r\") as f:\n",
    "        contenido = f.read()\n",
    "\n",
    "    datos = contenido.split(\"\\n\")\n",
    "\n",
    "    return datos"
   ]
  },
  {
   "cell_type": "code",
   "execution_count": null,
   "metadata": {},
   "outputs": [],
   "source": [
    "def leer_csv_dict():\n",
    "    with open(file_name, mode = 'r') as csv_file:\n",
    "        csv_reader = csv.DictReader(csv_file)\n",
    "        return list(csv_reader)"
   ]
  },
  {
   "cell_type": "code",
   "execution_count": null,
   "metadata": {},
   "outputs": [],
   "source": [
    "escribir_csv(2)\n",
    "datos = leer_csv()\n",
    "datos_dict = leer_csv_dict()\n",
    "\n",
    "print(datos)\n",
    "print(datos_dict)  \n",
    "\n",
    "# Para leer los datos específicos del datos_dict\n",
    "\n",
    "print([row['codigo'] for row in datos_dict])  # Lista de códigos"
   ]
  },
  {
   "cell_type": "markdown",
   "metadata": {},
   "source": [
    "## sockets"
   ]
  },
  {
   "cell_type": "code",
   "execution_count": null,
   "metadata": {},
   "outputs": [],
   "source": [
    "import socket\n",
    "\n",
    "SOCK_BUFFER = 1024\n",
    "HOST = \"0.0.0.0\"\n",
    "PORT = 5000"
   ]
  },
  {
   "cell_type": "markdown",
   "metadata": {},
   "source": [
    "- Servidor"
   ]
  },
  {
   "cell_type": "code",
   "execution_count": null,
   "metadata": {},
   "outputs": [],
   "source": [
    "sock = socket.socket(socket.AF_INET, socket.SOCK_STREAM) # Son datos por default, se copia y pega\n",
    "server_address = (HOST, PORT)\n",
    "\n",
    "print(f\"Levantando el servidor en {server_address[0]}, con puerto {server_address[1]}\")\n",
    "\n",
    "sock.bind(server_address)\n",
    "\n",
    "sock.listen(5) #cuantos clientes van a escuchar\n",
    "\n",
    "while True:\n",
    "    print(\"Esperando conexiones...\")\n",
    "    conn, client_address = sock.accept() #mi codigo no va a avanzar mas de esta linea hasta que el cliente acceda\n",
    "    print(f\"Conexion de {client_address[0]}:{client_address[1]}\")\n",
    "\n",
    "    try:\n",
    "        while True:\n",
    "            dato = conn.recv(SOCK_BUFFER)\n",
    "\n",
    "            if dato:\n",
    "                print(f\"Recibí: {dato}\")\n",
    "                conn.sendall(dato)\n",
    "            else:\n",
    "                print(f\"No hay más datos\")\n",
    "                break\n",
    "    except ConnectionResetError: #ecept exception: | eso chapa todas las excepciones, pero no es recomendable. Son constantes, no etiquetas.\n",
    "        print(\"El cliente cerró la conexión de manera abrubta\")\n",
    "    finally:\n",
    "        print(\"Cerrando la conexión\")\n",
    "        conn.close()"
   ]
  },
  {
   "cell_type": "markdown",
   "metadata": {},
   "source": [
    "- Cliente"
   ]
  },
  {
   "cell_type": "code",
   "execution_count": null,
   "metadata": {},
   "outputs": [],
   "source": [
    "sock = socket.socket(socket.AF_INET, socket.SOCK_STREAM)\n",
    "\n",
    "server_address = (HOST, PORT)\n",
    "\n",
    "print(f\"Conectandonos al servidor en {server_address[0]} en el puerto {server_address[1]}\")\n",
    "\n",
    "sock.connect(server_address)\n",
    "\n",
    "msg = \"hola mundo!\"\n",
    "\n",
    "sock.sendall(msg.encode(\"utf-8\"))\n",
    "dato = sock.recv(SOCK_BUFFER)\n",
    "\n",
    "sock.close()\n",
    "\n",
    "print(f\"Recibí: {dato}\")"
   ]
  },
  {
   "cell_type": "markdown",
   "metadata": {},
   "source": [
    "- Try except ejemplo:"
   ]
  },
  {
   "cell_type": "code",
   "execution_count": null,
   "metadata": {},
   "outputs": [],
   "source": [
    "a = 1\n",
    "b = '2'\n",
    "\n",
    "try:\n",
    "    c = a + b\n",
    "except TypeError:\n",
    "    print(\"Ocurrió un error de tipo\")\n",
    "    if not isinstance(a, int):\n",
    "        a = int(a)\n",
    "\n",
    "    if not isinstance(b, int):\n",
    "        b = int(b)\n",
    "\n",
    "    c = a + b\n",
    "finally:\n",
    "    print(f\"el resultado de a + b es {c}\")"
   ]
  },
  {
   "cell_type": "markdown",
   "metadata": {},
   "source": [
    "- JSON"
   ]
  },
  {
   "cell_type": "code",
   "execution_count": null,
   "metadata": {},
   "outputs": [],
   "source": [
    "import json\n",
    "\n",
    "data = {\n",
    "    \"nombre\": \"Juan\",\n",
    "    \"edad\": 30,\n",
    "    \"casado\": True,\n",
    "    \"hijos\": [\"Ana\", \"Luis\"],\n",
    "    \"direccion\": {\n",
    "        \"calle\": \"123 Calle Principal\",\n",
    "        \"ciudad\": \"Ciudad Ejemplo\"\n",
    "    }\n",
    "}\n",
    "\n",
    "json_string = json.dumps(data)  # Convierte el diccionario a una cadena JSON\n",
    "print(json_string)\n",
    "\n",
    "data_2 = json.loads(json_string)  # Convierte la cadena JSON a un diccionario\n",
    "print(data_2)\n",
    "\n",
    "# Para enviar como socket hacemos lo siguiente\n",
    "sock.sendall(json_string.encode('utf-8'))"
   ]
  },
  {
   "cell_type": "markdown",
   "metadata": {},
   "source": [
    "## Concurrencia"
   ]
  },
  {
   "cell_type": "markdown",
   "metadata": {},
   "source": [
    "### Async IO"
   ]
  },
  {
   "cell_type": "code",
   "execution_count": null,
   "metadata": {},
   "outputs": [],
   "source": [
    "import asyncio\n",
    "import time\n",
    "\n",
    "# 2 palabras clave: async y await"
   ]
  },
  {
   "cell_type": "code",
   "execution_count": null,
   "metadata": {},
   "outputs": [],
   "source": [
    "async def count():\n",
    "    print(\"One\")\n",
    "    await asyncio.sleep(1)\n",
    "    print(\"Two\")\n",
    "\n",
    "async def main():\n",
    "    await asyncio.gather(count(), count(), count())\n",
    "\n",
    "if __name__ == \"__main__\":\n",
    "    s = time.perf_counter()\n",
    "    asyncio.run(main())\n",
    "    elapsed = time.perf_counter() - s\n",
    "    print(f\"{__file__} executed in {elapsed:0.2f} seconds.\")"
   ]
  },
  {
   "cell_type": "markdown",
   "metadata": {},
   "source": [
    "Servidor con Asyncio"
   ]
  },
  {
   "cell_type": "code",
   "execution_count": null,
   "metadata": {},
   "outputs": [],
   "source": [
    "import asyncio\n",
    "import json\n",
    "\n",
    "SOCK_BUFFER = 1024\n",
    "HOST = \"0.0.0.0\"\n",
    "PORT = 5000"
   ]
  },
  {
   "cell_type": "code",
   "execution_count": null,
   "metadata": {},
   "outputs": [],
   "source": [
    "async def handle_client(reader, writer):\n",
    "    print(\"Cliente conectado\")\n",
    "\n",
    "    msg_bytes = await reader.read(SOCK_BUFFER)\n",
    "    print(f\"Recibi: {msg_bytes}\")\n",
    "    if msg_bytes:\n",
    "        msg_respuesta = 'Hola mundo'\n",
    "        msg_respuesta_str = json.dumps(msg_respuesta)\n",
    "\n",
    "        await writer.write(msg_respuesta_str.encode(\"utf-8\"))\n",
    "        await writer.drain()\n",
    "    \n",
    "    writer.close()\n",
    "    await writer.wait_closed()\n",
    "    print(\"conexion cerrada\")\n",
    "\n",
    "async def main():\n",
    "    server_address = (HOST, PORT)\n",
    "\n",
    "    server = await asyncio.start_server(handle_client, server_address[0], server_address[1])\n",
    "\n",
    "    async with server:\n",
    "        print(\"Empezando servidor...\")\n",
    "        await server.serve_forever()\n",
    "\n",
    "\n",
    "if __name__ == '__main__':\n",
    "    asyncio.run(main())"
   ]
  },
  {
   "cell_type": "markdown",
   "metadata": {},
   "source": [
    "Cliente con Asyncio"
   ]
  },
  {
   "cell_type": "code",
   "execution_count": 55,
   "metadata": {},
   "outputs": [],
   "source": [
    "import asyncio\n",
    "import json\n",
    "\n",
    "SOCK_BUFFER = 1024\n",
    "HOST = \"0.0.0.0\"\n",
    "PORT = 5000"
   ]
  },
  {
   "cell_type": "code",
   "execution_count": null,
   "metadata": {},
   "outputs": [],
   "source": [
    "async def send(writer, msg):\n",
    "    print(f\"Enviando mensaje: {msg}\")\n",
    "    msg_bytes = msg.encode(\"utf-8\")\n",
    "    writer.write(msg_bytes)\n",
    "    await writer.drain()\n",
    "\n",
    "\n",
    "async def recv(reader):\n",
    "    print(\"Esperando respuesta\")\n",
    "    result_bytes = await reader.read(SOCK_BUFFER)\n",
    "    print(f\"recibi en bytes {result_bytes}\")\n",
    "    result = result_bytes.decode(\"utf-8\")\n",
    "\n",
    "    return result\n",
    "\n",
    "\n",
    "async def client(server_ip: str, server_port: int, msg: str):\n",
    "    server_address = (server_ip, server_port)\n",
    "    print(f\"Conectando a {server_address[0]}:{server_address[1]}\")\n",
    "    reader, writer = await asyncio.open_connection(server_address[0], server_address[1])\n",
    "    print(\"Conectado\")\n",
    "    await send(writer, msg)\n",
    "    \n",
    "    res = await recv(reader)\n",
    "\n",
    "    print(\"cerrando la conexion\")\n",
    "    writer.close()\n",
    "    await writer.wait_closed()\n",
    "\n",
    "    return res"
   ]
  },
  {
   "cell_type": "markdown",
   "metadata": {},
   "source": [
    "### Threading"
   ]
  },
  {
   "cell_type": "code",
   "execution_count": null,
   "metadata": {},
   "outputs": [],
   "source": []
  },
  {
   "cell_type": "markdown",
   "metadata": {},
   "source": [
    "### Multiprocesing"
   ]
  },
  {
   "cell_type": "code",
   "execution_count": null,
   "metadata": {},
   "outputs": [],
   "source": []
  }
 ],
 "metadata": {
  "kernelspec": {
   "display_name": "Python 3",
   "language": "python",
   "name": "python3"
  },
  "language_info": {
   "codemirror_mode": {
    "name": "ipython",
    "version": 3
   },
   "file_extension": ".py",
   "mimetype": "text/x-python",
   "name": "python",
   "nbconvert_exporter": "python",
   "pygments_lexer": "ipython3",
   "version": "3.10.12"
  }
 },
 "nbformat": 4,
 "nbformat_minor": 2
}
